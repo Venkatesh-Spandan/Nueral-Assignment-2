{
  "nbformat": 4,
  "nbformat_minor": 0,
  "metadata": {
    "colab": {
      "provenance": []
    },
    "kernelspec": {
      "name": "python3",
      "display_name": "Python 3"
    },
    "language_info": {
      "name": "python"
    }
  },
  "cells": [
    {
      "cell_type": "markdown",
      "source": [
        "1.Write a program that takes two strings from the user: first_name, last_name. Pass these variables to\n",
        "fullname function that should return the (full name).\n"
      ],
      "metadata": {
        "id": "FuFiKXzFwc86"
      }
    },
    {
      "cell_type": "code",
      "source": [
        "def printFullname(firstname, lastname):\n",
        "  return firstname +\" \"+ lastname\n",
        "\n",
        "firstname = input(\"Enter First Name:\")\n",
        "lastname = input(\"Enter Last Name:\")\n",
        "print(printFullname(firstname,lastname))"
      ],
      "metadata": {
        "colab": {
          "base_uri": "https://localhost:8080/"
        },
        "id": "RzTa9HyDwgjo",
        "outputId": "9364f7e6-9ab9-40aa-a9cc-cbf4c5fb8bad"
      },
      "execution_count": 3,
      "outputs": [
        {
          "output_type": "stream",
          "name": "stdout",
          "text": [
            "Enter First Name:Spandan\n",
            "Enter Last Name:Kumar\n",
            "Spandan Kumar\n"
          ]
        }
      ]
    },
    {
      "cell_type": "markdown",
      "source": [
        "Write function named “string_alternative” that returns every other char in the full_name string.\n",
        "Str = “Good evening”\n"
      ],
      "metadata": {
        "id": "G_n3XgLO0EDE"
      }
    },
    {
      "cell_type": "code",
      "source": [
        "def string_alternative(s):\n",
        "  return s[::2]\n",
        "print(string_alternative(input()))\n"
      ],
      "metadata": {
        "colab": {
          "base_uri": "https://localhost:8080/"
        },
        "id": "ppDkFSg30KSC",
        "outputId": "e12662ee-5f61-4322-9cf0-784511ac34d1"
      },
      "execution_count": 6,
      "outputs": [
        {
          "output_type": "stream",
          "name": "stdout",
          "text": [
            "Good evening\n",
            "Go vnn\n"
          ]
        }
      ]
    },
    {
      "cell_type": "markdown",
      "source": [
        "2. Write a python program to find the wordcount in a file (input.txt) for each line and then print the output.\n"
      ],
      "metadata": {
        "id": "wkjk07zS0YnO"
      }
    },
    {
      "cell_type": "code",
      "source": [
        "with open('input.txt','r') as inputFile:\n",
        "    linesCount = 0\n",
        "    freqWords = {}\n",
        "    outputFile = open('output.txt','w')\n",
        "    for line in inputFile:\n",
        "        linesCount += 1\n",
        "        outputFile.write(line)\n",
        "        words = line.strip('\\n').split(' ')\n",
        "        for word in words:\n",
        "            if word in freqWords :\n",
        "                freqWords[word] += 1\n",
        "            else:\n",
        "                freqWords[word] = 1\n",
        "\n",
        "    outputFile.write(' \\n Word_Count:')\n",
        "    for key,value in freqWords.items():\n",
        "        outputFile.write(key + ' : ' + str(value) + '\\n')\n",
        "    print(freqWords)\n"
      ],
      "metadata": {
        "id": "bUunOIC7xgrf",
        "collapsed": true
      },
      "execution_count": null,
      "outputs": []
    },
    {
      "cell_type": "markdown",
      "source": [
        "3. Write a program, which reads heights (inches.) of customers into a list and convert these\n",
        "heights to centimeters in a separate list using:\n"
      ],
      "metadata": {
        "id": "lsiqqqg35FEh"
      }
    },
    {
      "cell_type": "code",
      "source": [
        "l=[]\n",
        "l1=[]\n",
        "n=int(input(\"Enter number of customers:\"))\n",
        "for i in range(n):\n",
        "  l.append(int(input()))\n",
        "  l1.append(l[i]*2.54)\n",
        "print(l)\n",
        "print(l1)\n"
      ],
      "metadata": {
        "colab": {
          "base_uri": "https://localhost:8080/"
        },
        "id": "PXq9dU3x5MZr",
        "outputId": "5b0a23b6-ef4b-4f3b-dff3-a7bf6e82af69"
      },
      "execution_count": 13,
      "outputs": [
        {
          "output_type": "stream",
          "name": "stdout",
          "text": [
            "Enter number of customers:3\n",
            "12\n",
            "8\n",
            "17\n",
            "[12, 8, 17]\n",
            "[30.48, 20.32, 43.18]\n"
          ]
        }
      ]
    },
    {
      "cell_type": "markdown",
      "source": [
        "List Comprehensions\n"
      ],
      "metadata": {
        "id": "oBW7ktzH7rwP"
      }
    },
    {
      "cell_type": "code",
      "source": [
        "def inch_to_cm(inch):\n",
        "    return 2.54 * inch\n",
        "\n",
        "heights_inches = []\n",
        "heights_cms = []\n",
        "num_customers = int(input(\"Enter the number of customers: \"))\n",
        "\n",
        "heights_inches = [float(input(f\"Enter height of customer {i + 1} in inches: \")) for i in range(num_customers)]\n",
        "\n",
        "heights_cms = [ inch_to_cm(height) for height in heights_inches]\n",
        "\n",
        "print(heights_cms)"
      ],
      "metadata": {
        "colab": {
          "base_uri": "https://localhost:8080/"
        },
        "id": "1bq2ts53714I",
        "outputId": "5dc464d2-25b0-4ce6-914f-22690818f0f4"
      },
      "execution_count": 16,
      "outputs": [
        {
          "output_type": "stream",
          "name": "stdout",
          "text": [
            "Enter the number of customers: 4\n",
            "Enter height of customer 1 in inches: 72\n",
            "Enter height of customer 2 in inches: 64\n",
            "Enter height of customer 3 in inches: 78\n",
            "Enter height of customer 4 in inches: 50\n",
            "[182.88, 162.56, 198.12, 127.0]\n"
          ]
        }
      ]
    }
  ]
}